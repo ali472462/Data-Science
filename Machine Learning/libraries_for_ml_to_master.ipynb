{
 "cells": [
  {
   "cell_type": "markdown",
   "metadata": {},
   "source": [
    "1) Scikit learn\n",
    "2) TensorFlow (include keras)\n",
    "3) PyTorch\n",
    "4) NLTK (Natural Language Tool Kit)\n",
    "5) OpenCV (for image related tasks)"
   ]
  }
 ],
 "metadata": {
  "language_info": {
   "name": "python"
  }
 },
 "nbformat": 4,
 "nbformat_minor": 2
}
