{
 "cells": [
  {
   "cell_type": "markdown",
   "metadata": {},
   "source": [
    "There are 5 Data Preprocessing Steps: \n",
    "1) Data Cleaning \n",
    "   ( >>tiding-up the data, \n",
    "     >>discarding unnecessary data,\n",
    "     >>Imputing missing values )\n",
    "\n",
    "2) Data Integration/Pooling\n",
    "    ( >> use triangulation method for verifying the data validity, \n",
    "      >> it causes data redundancy but we can remove duplicates, \n",
    "         NO WORRIES ) \n",
    "3) Data Transformation\n",
    "    ( >> Scaling,\n",
    "      >> Normalization, \n",
    "      >> Aggregation,\n",
    "      >> Data Generalization --&gt;make groups of data so we can fit the model,\n",
    "      >> binning is used) \n",
    "4) Data Reduction \n",
    "   ( >> Dimensionality Reduction--&gt; PCA,\n",
    "     >> Multivariate Analysis,\n",
    "     >> Numerosity Reduction--&gt; Converting Categorical to Numerical {0,1},\n",
    "     >> Data Encoding, \n",
    "     >> Data Compression ) \n",
    "5) Data Discretization \n",
    "   ( >> Converting Numerical variables--&gt; Nominal(Categorical) binning           techniques are used)"
   ]
  },
  {
   "cell_type": "markdown",
   "metadata": {},
   "source": [
    "### Data Pre-processing Steps:\n",
    "1) Data Cleaning :\n",
    "\n",
    "   ``(Impute missing values, smoothing noisy data, Outliers, Inconsistancies) ``\n",
    "2) Data Integration :\n",
    "    \n",
    "   ``(Duplicates, Data Integrate, Data Merging, Data Consolidation) `` \n",
    "3) Data Transformation :\n",
    "    \n",
    "   ``(Scaling, Normalization, Aggregation, Generalization, Higher Level Concepts) ``\n",
    "4) Data Reducdency  :\n",
    "    \n",
    "   `` (Dimensionality reduction, Numerosity Reduction--&gt; Data Encoding, Data Compression) `` \n",
    "5) Data Discretization :\n",
    "   \n",
    "    `` (Converting Numerical --&gt; Categorical , Binning, Clustering)`` "
   ]
  },
  {
   "cell_type": "code",
   "execution_count": null,
   "metadata": {
    "vscode": {
     "languageId": "plaintext"
    }
   },
   "outputs": [],
   "source": []
  }
 ],
 "metadata": {
  "language_info": {
   "name": "python"
  }
 },
 "nbformat": 4,
 "nbformat_minor": 2
}
