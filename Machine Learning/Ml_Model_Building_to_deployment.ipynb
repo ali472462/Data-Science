{
 "cells": [
  {
   "cell_type": "markdown",
   "metadata": {},
   "source": [
    "1) Define the problem\n",
    "2) Data Collection\n",
    "3) Data Preprocessing\n",
    "    >> finding anomalies\n",
    "    >>outliers\n",
    "    >>Missing Values\n",
    "    >>feature engineering\n",
    "    >>Data wrangling and cleaning\n",
    "4) Choose a Model / Models\n",
    "    >>Classification model \n",
    "    >>Regression Model\n",
    "    >> Clustering (in unsuperwised learning)\n",
    "5) Split the data\n",
    "    >>Independent Varibales(X ,predictors ,inputs ,features)\n",
    "    >>Dependent Variable(y, output ,label)\n",
    "6) Evaluating the Model:\n",
    "    >>Matrics (tells the difference between the     predicted and orignal data), {r_2 ,RMSE MSE} \n",
    "\n",
    "7) Hyper Parameter Tuning\n",
    "    >>Understand the model and its parameters theory deeply.\n",
    "8) Training & Testing (Cross Validation)\n",
    "    >>shuffle the traning and testing data.\n",
    "9) Model Finalization \n",
    "    >>multidata validation.\n",
    "\n",
    "10) Model Deployment\n",
    "    >>App , Web App , Software\n",
    "11) Retest, Update, and Refine the Model\n",
    "    "
   ]
  },
  {
   "cell_type": "markdown",
   "metadata": {},
   "source": []
  }
 ],
 "metadata": {
  "language_info": {
   "name": "python"
  }
 },
 "nbformat": 4,
 "nbformat_minor": 2
}
